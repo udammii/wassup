{
 "cells": [
  {
   "cell_type": "markdown",
   "id": "ecff3590",
   "metadata": {},
   "source": [
    "# 1. IF문"
   ]
  },
  {
   "cell_type": "code",
   "execution_count": 9,
   "id": "55c2eaf6",
   "metadata": {},
   "outputs": [
    {
     "name": "stdout",
     "output_type": "stream",
     "text": [
      "택시를 타고 가라\n"
     ]
    }
   ],
   "source": [
    "# ‘돈이 있으면 택시를 타고 가고, 돈이 없으면 걸어간다.’\n",
    "\n",
    "money = True\n",
    "if money:\n",
    "    print(\"택시를 타고 가라\")\n",
    "else:\n",
    "    print(\"걸어 가라\")"
   ]
  },
  {
   "cell_type": "code",
   "execution_count": null,
   "id": "8b982778",
   "metadata": {},
   "outputs": [],
   "source": [
    "# if문 구조\n",
    "# 들여쓰기 하지않으면 오류 생김 \n",
    "# 조건문 다음에 콜론(:)을 작성\n",
    "\n",
    "if 조건문:\n",
    "    수행할_문장1\n",
    "    수행할_문장2\n",
    "    ...\n",
    "else:\n",
    "    수행할_문장A\n",
    "    수행할_문장B\n",
    "    ..."
   ]
  },
  {
   "cell_type": "code",
   "execution_count": 7,
   "id": "a72d3dab",
   "metadata": {},
   "outputs": [
    {
     "ename": "IndentationError",
     "evalue": "unexpected indent (3548834574.py, line 6)",
     "output_type": "error",
     "traceback": [
      "\u001b[1;36m  Cell \u001b[1;32mIn[7], line 6\u001b[1;36m\u001b[0m\n\u001b[1;33m    print(\"가라\")\u001b[0m\n\u001b[1;37m    ^\u001b[0m\n\u001b[1;31mIndentationError\u001b[0m\u001b[1;31m:\u001b[0m unexpected indent\n"
     ]
    }
   ],
   "source": [
    "# indent_error.py\n",
    "money = True\n",
    "if money:\n",
    "    print(\"택시를\")\n",
    "print(\"타고\")\n",
    "    print(\"가라\")"
   ]
  },
  {
   "cell_type": "code",
   "execution_count": 8,
   "id": "900d2e82",
   "metadata": {},
   "outputs": [
    {
     "name": "stdout",
     "output_type": "stream",
     "text": [
      "택시를\n",
      "타고\n",
      "가라\n"
     ]
    }
   ],
   "source": [
    "# indent_error.py\n",
    "money = True\n",
    "if money:\n",
    "    print(\"택시를\")\n",
    "    print(\"타고\")\n",
    "    print(\"가라\")"
   ]
  },
  {
   "cell_type": "markdown",
   "id": "2adf784d",
   "metadata": {},
   "source": [
    "------------------------------"
   ]
  },
  {
   "cell_type": "markdown",
   "id": "d7de6172",
   "metadata": {},
   "source": [
    "## 1.1. 연산자 "
   ]
  },
  {
   "cell_type": "code",
   "execution_count": 13,
   "id": "7d135543",
   "metadata": {},
   "outputs": [
    {
     "name": "stdout",
     "output_type": "stream",
     "text": [
      "걸어가라\n"
     ]
    }
   ],
   "source": [
    "# 만약 3000원 이상의 돈을 가지고 있으면 택시를 타고 가고, 그렇지 않으면 걸어가라.\n",
    "#money에 3000원 이상 넣으면 \"택시를 타고가라\" 출력\n",
    "\n",
    "money = 2000\n",
    "if money >= 3000:\n",
    "    print (\"택시를 타고가라\")\n",
    "else:\n",
    "    print (\"걸어가라\")"
   ]
  },
  {
   "cell_type": "code",
   "execution_count": 19,
   "id": "4f7f598c",
   "metadata": {},
   "outputs": [
    {
     "name": "stdout",
     "output_type": "stream",
     "text": [
      "택시를 타고 가라\n"
     ]
    }
   ],
   "source": [
    "# 돈이 3000원 이상 있거나 카드가 있다면 택시를 타고 가고, 그렇지 않으면 걸어가라.\n",
    "\n",
    "money = 2000\n",
    "card = True\n",
    "\n",
    "if money >= 3000 or card:\n",
    "    print (\"택시를 타고 가라\")\n",
    "else:\n",
    "    print (\"걸어가라\")"
   ]
  },
  {
   "cell_type": "code",
   "execution_count": 20,
   "id": "6148ad14",
   "metadata": {},
   "outputs": [
    {
     "name": "stdout",
     "output_type": "stream",
     "text": [
      "택시를 타고 가라\n"
     ]
    }
   ],
   "source": [
    "# in/ not in\n",
    "# 리스트를 먼저 생성 후 in 연산자 사용\n",
    "# 만약 주머니에 돈이 있으면 택시를 타고 가고, 없으면 걸어가라.\n",
    "\n",
    "주머니 = [\"돈\", \"휴대폰\", \"볼펜\"]\n",
    "\n",
    "if \"돈\" in 주머니:\n",
    "    print (\"택시를 타고 가라\")\n",
    "else:\n",
    "    print (\"걸어가라\")\n"
   ]
  },
  {
   "cell_type": "code",
   "execution_count": 22,
   "id": "ed8ece28",
   "metadata": {},
   "outputs": [],
   "source": [
    "# pass : 조건문에서 아무것도 수행되지 않게 하는 방법\n",
    "\n",
    "# 주머니에 돈이 있으면 가만히 있고, 주머니에 돈이 없으면 카드를 꺼내라.\n",
    "pocket = ['paper', 'money', 'cellphone']\n",
    "if 'money' in pocket:\n",
    "    pass \n",
    "else:\n",
    "    print(\"카드를 꺼내라\")"
   ]
  },
  {
   "cell_type": "markdown",
   "id": "25571cb0",
   "metadata": {},
   "source": [
    "## 1.2 elif"
   ]
  },
  {
   "cell_type": "code",
   "execution_count": 29,
   "id": "0d66afb7",
   "metadata": {},
   "outputs": [
    {
     "name": "stdout",
     "output_type": "stream",
     "text": [
      "택시를 타고가라\n"
     ]
    }
   ],
   "source": [
    "# 주머니에 돈이 있으면 택시를 타고 가고, 주머니에 돈은 없지만 카드가 있으면 택시를 타고 가고, 돈도 없고 카드도 없으면 걸어가라.\n",
    "\n",
    "주머니 = [\"돈\", \"휴대폰\", \"볼펜\"]\n",
    "카드 = True\n",
    "\n",
    "if \"돈\" in 주머니:\n",
    "    print (\"택시를 타고가라\")\n",
    "else:\n",
    "    if 카드:\n",
    "        print (\"택시를 타고가라\")\n",
    "    else:\n",
    "        print (\"걸어가라\")"
   ]
  },
  {
   "cell_type": "code",
   "execution_count": 31,
   "id": "dbbdc247",
   "metadata": {},
   "outputs": [
    {
     "name": "stdout",
     "output_type": "stream",
     "text": [
      "택시를 타고가라\n"
     ]
    }
   ],
   "source": [
    "# elif은 조건문이 거짓일 때 수행 (갯수 제한없이 사용 가능)\n",
    "\n",
    "# 주머니에 돈이 있으면 택시를 타고 가고, 주머니에 돈은 없지만 카드가 있으면 택시를 타고 가고, 돈도 없고 카드도 없으면 걸어가라.\n",
    "주머니 = [\"돈\", \"휴대폰\", \"볼펜\"]\n",
    "카드 = True\n",
    "\n",
    "if \"돈\" in 주머니:\n",
    "    print (\"택시를 타고가라\")\n",
    "elif 카드:\n",
    "    print (\"택시를 타고가라\")\n",
    "else:\n",
    "    print (\"걸어가라\")"
   ]
  },
  {
   "cell_type": "code",
   "execution_count": 39,
   "id": "6b6b687d",
   "metadata": {},
   "outputs": [],
   "source": [
    "# (:) 콜론 뒤에 넣으면 한줄로도 가능\n",
    "\n",
    "pocket = ['paper', 'money', 'cellphone']\n",
    "if 'money' in pocket: pass\n",
    "else: print(\"카드를 꺼내라\")"
   ]
  },
  {
   "cell_type": "markdown",
   "id": "337d102c",
   "metadata": {},
   "source": [
    "## 1.3 조건부 표현식 "
   ]
  },
  {
   "cell_type": "code",
   "execution_count": 55,
   "id": "dcb1653a",
   "metadata": {},
   "outputs": [
    {
     "name": "stdout",
     "output_type": "stream",
     "text": [
      "failure\n"
     ]
    }
   ],
   "source": [
    "score = 50\n",
    "\n",
    "if score >= 60:\n",
    "    print (\"success\")\n",
    "else:\n",
    "    print (\"failure\")"
   ]
  },
  {
   "cell_type": "code",
   "execution_count": 56,
   "id": "c301408c",
   "metadata": {},
   "outputs": [],
   "source": [
    "# 변수 = 조건문이_참인_경우의_값 if 조건문 else 조건문이_거짓인_경우의_값\n",
    "score = 50\n",
    "message = \"success\" if score >= 60 else \"failure\""
   ]
  },
  {
   "cell_type": "markdown",
   "id": "f5c2f0ee",
   "metadata": {},
   "source": [
    "# 2. while문 "
   ]
  },
  {
   "cell_type": "code",
   "execution_count": 62,
   "id": "4a38e701",
   "metadata": {
    "scrolled": true
   },
   "outputs": [
    {
     "ename": "SyntaxError",
     "evalue": "invalid syntax (1223027742.py, line 4)",
     "output_type": "error",
     "traceback": [
      "\u001b[1;36m  Cell \u001b[1;32mIn[62], line 4\u001b[1;36m\u001b[0m\n\u001b[1;33m    >>> treeHit = 0\u001b[0m\n\u001b[1;37m    ^\u001b[0m\n\u001b[1;31mSyntaxError\u001b[0m\u001b[1;31m:\u001b[0m invalid syntax\n"
     ]
    }
   ],
   "source": [
    "# while문은 조건문이 참인 동안 속한 문장들이 반복해서 수행\n",
    "\n",
    "# 열 번 찍어 안 넘어가는 나무 없다.\n",
    ">>> treeHit = 0\n",
    ">>> while treeHit < 10:\n",
    "...    treeHit = treeHit + 1\n",
    "...    Print(\"나무를 %d번 찍었습니다.\" % treeHit)\n",
    "...    if treeHit == 10:\n",
    "...        print (\"나무 넘어갑니다.\")"
   ]
  },
  {
   "cell_type": "code",
   "execution_count": 63,
   "id": "1758c310",
   "metadata": {},
   "outputs": [
    {
     "ename": "NameError",
     "evalue": "name 'Print' is not defined",
     "output_type": "error",
     "traceback": [
      "\u001b[1;31m---------------------------------------------------------------------------\u001b[0m",
      "\u001b[1;31mNameError\u001b[0m                                 Traceback (most recent call last)",
      "Cell \u001b[1;32mIn[63], line 4\u001b[0m\n\u001b[0;32m      2\u001b[0m \u001b[38;5;28;01mwhile\u001b[39;00m treeHit \u001b[38;5;241m<\u001b[39m \u001b[38;5;241m10\u001b[39m:\n\u001b[0;32m      3\u001b[0m     treeHit \u001b[38;5;241m=\u001b[39m treeHit \u001b[38;5;241m+\u001b[39m \u001b[38;5;241m1\u001b[39m\n\u001b[1;32m----> 4\u001b[0m     Print(\u001b[38;5;124m\"\u001b[39m\u001b[38;5;124m나무를 \u001b[39m\u001b[38;5;132;01m%d\u001b[39;00m\u001b[38;5;124m번 찍었습니다\u001b[39m\u001b[38;5;124m\"\u001b[39m \u001b[38;5;241m%\u001b[39m treeHit)\n\u001b[0;32m      5\u001b[0m     \u001b[38;5;28;01mif\u001b[39;00m treeHit \u001b[38;5;241m==\u001b[39m \u001b[38;5;241m10\u001b[39m:\n\u001b[0;32m      6\u001b[0m         \u001b[38;5;28mprint\u001b[39m(\u001b[38;5;124m\"\u001b[39m\u001b[38;5;124m나무 넘어갑니다.\u001b[39m\u001b[38;5;124m\"\u001b[39m)\n",
      "\u001b[1;31mNameError\u001b[0m: name 'Print' is not defined"
     ]
    }
   ],
   "source": [
    ">>> treeHit = 0\n",
    ">>> while treeHit < 10:\n",
    "    treeHit = treeHit + 1\n",
    "    Print(\"나무를 %d번 찍었습니다\" % treeHit)\n",
    "    if treeHit == 10:\n",
    "        print(\"나무 넘어갑니다.\")"
   ]
  },
  {
   "cell_type": "code",
   "execution_count": 59,
   "id": "5df32dc3",
   "metadata": {},
   "outputs": [
    {
     "name": "stdout",
     "output_type": "stream",
     "text": [
      "나무를 1번 찍었습니다.\n",
      "나무를 2번 찍었습니다.\n",
      "나무를 3번 찍었습니다.\n",
      "나무를 4번 찍었습니다.\n",
      "나무를 5번 찍었습니다.\n",
      "나무를 6번 찍었습니다.\n",
      "나무를 7번 찍었습니다.\n",
      "나무를 8번 찍었습니다.\n",
      "나무를 9번 찍었습니다.\n",
      "나무를 10번 찍었습니다.\n",
      "나무 넘어갑니다.\n"
     ]
    }
   ],
   "source": [
    ">>> treeHit = 0\n",
    ">>> while treeHit < 10:\n",
    "...     treeHit = treeHit +1\n",
    "...     print(\"나무를 %d번 찍었습니다.\" % treeHit)\n",
    "...     if treeHit == 10:\n",
    "...         print(\"나무 넘어갑니다.\")"
   ]
  },
  {
   "cell_type": "markdown",
   "id": "f9c5b1f4",
   "metadata": {},
   "source": [
    "#### Q. 왜 오류가 나는건지?"
   ]
  },
  {
   "cell_type": "markdown",
   "id": "58ebaf0c",
   "metadata": {},
   "source": [
    "## 2.1. while문 만들기"
   ]
  },
  {
   "cell_type": "code",
   "execution_count": 68,
   "id": "1712aeff",
   "metadata": {},
   "outputs": [],
   "source": [
    ">>> prompt = \"\"\"\n",
    "... 1. Add\n",
    "... 2. Del\n",
    "... 3. List\n",
    "... 4. Quit\n",
    "...\n",
    "... Enter number: \"\"\"\n",
    ">>>"
   ]
  },
  {
   "cell_type": "code",
   "execution_count": 69,
   "id": "258fc785",
   "metadata": {},
   "outputs": [
    {
     "ename": "SyntaxError",
     "evalue": "invalid syntax (3269042420.py, line 7)",
     "output_type": "error",
     "traceback": [
      "\u001b[1;36m  Cell \u001b[1;32mIn[69], line 7\u001b[1;36m\u001b[0m\n\u001b[1;33m    1. Add\u001b[0m\n\u001b[1;37m       ^\u001b[0m\n\u001b[1;31mSyntaxError\u001b[0m\u001b[1;31m:\u001b[0m invalid syntax\n"
     ]
    }
   ],
   "source": [
    ">>> number = 0\n",
    ">>> while number != 4:\n",
    "...     print(prompt)\n",
    "...     number = int(input())\n",
    "...\n",
    "\n",
    "1. Add\n",
    "2. Del\n",
    "3. List\n",
    "4. Quit\n",
    "\n",
    "Enter number:"
   ]
  },
  {
   "cell_type": "code",
   "execution_count": null,
   "id": "ad0657b1",
   "metadata": {},
   "outputs": [],
   "source": []
  },
  {
   "cell_type": "code",
   "execution_count": null,
   "id": "0d4c74ec",
   "metadata": {},
   "outputs": [],
   "source": []
  },
  {
   "cell_type": "code",
   "execution_count": null,
   "id": "6fe0338e",
   "metadata": {},
   "outputs": [],
   "source": []
  }
 ],
 "metadata": {
  "kernelspec": {
   "display_name": "Python 3 (ipykernel)",
   "language": "python",
   "name": "python3"
  },
  "language_info": {
   "codemirror_mode": {
    "name": "ipython",
    "version": 3
   },
   "file_extension": ".py",
   "mimetype": "text/x-python",
   "name": "python",
   "nbconvert_exporter": "python",
   "pygments_lexer": "ipython3",
   "version": "3.11.5"
  }
 },
 "nbformat": 4,
 "nbformat_minor": 5
}
